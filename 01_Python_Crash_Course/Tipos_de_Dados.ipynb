{
 "cells": [
  {
   "cell_type": "markdown",
   "id": "3835102f-894c-4377-891a-a89360f4fec7",
   "metadata": {},
   "source": [
    "# Python Crush Course"
   ]
  },
  {
   "cell_type": "markdown",
   "id": "0b80eb06-c868-41a1-bb8c-48fbe89e9046",
   "metadata": {},
   "source": [
    "## Data Types"
   ]
  },
  {
   "cell_type": "markdown",
   "id": "669f0167-e863-49e5-9b75-c8a5c9bdca5e",
   "metadata": {},
   "source": [
    "Temos muitas opções de variáveis em Python. Dentre elas:\n",
    "- Inteiro (int);\n",
    "- Ponto Flutuante ou decimal (float);\n",
    "- Complexo (complex)\n",
    "- String (str)\n",
    "- Booleano (bool)\n",
    "- Lista (list)\n",
    "- Tupla (Tuple)\n",
    "- Dicionário (dic)\n",
    "\n",
    "Vamos analisar suas especificades a seguir:"
   ]
  },
  {
   "cell_type": "markdown",
   "id": "aa97e92b-592d-4e08-a370-826bb7401805",
   "metadata": {},
   "source": [
    "### Inteiros (int)"
   ]
  },
  {
   "cell_type": "code",
   "execution_count": 24,
   "id": "b207c7e1-06c6-40b0-95fb-592d5eb99539",
   "metadata": {},
   "outputs": [
    {
     "name": "stdout",
     "output_type": "stream",
     "text": [
      "<class 'int'>\n",
      "<class 'int'>\n",
      "<class 'int'>\n"
     ]
    }
   ],
   "source": [
    "# Os números inteiros são como os vistos na matemática: Podem ser positivos e negativos e não aceitam decimais. O próprio nome já ajuda na compreensão: INTEIRO.\n",
    "\n",
    "a = 1\n",
    "print(type(a))\n",
    "b = -1\n",
    "print(type(b))\n",
    "c = 4//2\n",
    "print(type(c)) # Para o retorno ser um INT a barra deve ser dupla. Se a barra for simples, o retorno não será 2 mas 2.0\n",
    "\n",
    "# Eles São muitos utilizados na ciencia de dados para definir idades, número de parentes, número de carros, pessoas, variáveis categóricas e etc."
   ]
  },
  {
   "cell_type": "markdown",
   "id": "1f537ee9-a3be-4192-9b1b-2f3d585fa941",
   "metadata": {},
   "source": [
    "### Pontos Flutuantes (float)"
   ]
  },
  {
   "cell_type": "code",
   "execution_count": 25,
   "id": "72baefa7-a5f1-4fd0-8aad-faadd9000122",
   "metadata": {},
   "outputs": [
    {
     "name": "stdout",
     "output_type": "stream",
     "text": [
      "<class 'float'>\n",
      "<class 'float'>\n",
      "<class 'float'>\n"
     ]
    }
   ],
   "source": [
    "# Os floats, por sua vez, apresentam números decimais em sua estutura.\n",
    "\n",
    "a = 1.0 # Interessante observar que 'a' mesmo sendo 1.0, ainda é considerado float pois assume decimal.\n",
    "print(type(a))\n",
    "b = -1.9\n",
    "print(type(b))\n",
    "c = 4/2\n",
    "print(type(c)) # Mesmo caso da célula anterior, mas agora com barra simples, denotando um retorno em float.\n",
    "\n",
    "# Eles São muitos utilizados na ciencia de dados para definir pesos, alturas, temperaturas e etc."
   ]
  },
  {
   "cell_type": "markdown",
   "id": "b0dbce11-b4dd-410c-8577-ad382b68d155",
   "metadata": {},
   "source": [
    "### Complexos (complex)"
   ]
  },
  {
   "cell_type": "code",
   "execution_count": 26,
   "id": "3c8b0a47-beda-406a-a59a-d70cba4530b0",
   "metadata": {},
   "outputs": [
    {
     "name": "stdout",
     "output_type": "stream",
     "text": [
      "<class 'complex'>\n",
      "<class 'complex'>\n",
      "<class 'complex'>\n",
      "(4+6j)\n"
     ]
    }
   ],
   "source": [
    "# Os complex representam números complexos... Bem autoexplicativo não é mesmo??\n",
    "\n",
    "a = 4+6j\n",
    "print(type(a))\n",
    "b = 34+8j\n",
    "print(type(b))\n",
    "c = 1+2j\n",
    "print(type(c))\n",
    "\n",
    "# Tambem pode ser utilziado usando a função complex, tal que, complex(real, imaginada):\n",
    "print(complex(4,6))\n",
    "\n",
    "# Eles São muitos utilizados em cálculos geométricos e científicos."
   ]
  },
  {
   "cell_type": "markdown",
   "id": "e45ce402-0be2-40ce-ace6-50a46af9fb0b",
   "metadata": {},
   "source": [
    "### Strings (str)"
   ]
  },
  {
   "cell_type": "code",
   "execution_count": 27,
   "id": "5ef538bc-e738-4dab-a95e-d92ede5eca33",
   "metadata": {},
   "outputs": [
    {
     "name": "stdout",
     "output_type": "stream",
     "text": [
      "<class 'str'>\n",
      "<class 'str'>\n",
      "<class 'str'>\n"
     ]
    }
   ],
   "source": [
    "# As Strings servem para denotar caracteres em alguma ordem.\n",
    "\n",
    "nome = 'Ramon'\n",
    "sobrenome = 'Viana'\n",
    "profissao = 'Cientista de Dados'\n",
    "\n",
    "print(type(nome))\n",
    "print(type(sobrenome))\n",
    "print(type(profissao))\n",
    "\n",
    "# Eles são utilizados para representar palavras, frases ou textos."
   ]
  },
  {
   "cell_type": "markdown",
   "id": "cc92ea17-e5cd-4932-b554-bf7c01b0f376",
   "metadata": {},
   "source": [
    "### Booleano (bool)"
   ]
  },
  {
   "cell_type": "code",
   "execution_count": 28,
   "id": "f65f82d6-8e25-4cfd-a41b-53cb75f8f7dc",
   "metadata": {},
   "outputs": [
    {
     "name": "stdout",
     "output_type": "stream",
     "text": [
      "<class 'bool'>\n",
      "<class 'bool'>\n"
     ]
    }
   ],
   "source": [
    "# Booleanos são dicotomicos em que possuem apenas dois valores: Verdadeiro (True) ou Falso (False).\n",
    "\n",
    "segunda_feira = True\n",
    "energia = False\n",
    "\n",
    "print(type(segunda_feira))\n",
    "print(type(energia))\n",
    "\n",
    "# Eles são mutos utilizados em condições (if) [Cenas para um próximo capítulo...]: "
   ]
  },
  {
   "cell_type": "markdown",
   "id": "d3c03745-31a5-47e9-b37e-a433aeef8a4c",
   "metadata": {},
   "source": [
    "### Listas (list)"
   ]
  },
  {
   "cell_type": "code",
   "execution_count": 29,
   "id": "5207dfb5-5557-4ad8-9781-605c69b705b0",
   "metadata": {},
   "outputs": [
    {
     "name": "stdout",
     "output_type": "stream",
     "text": [
      "<class 'list'>\n",
      "<class 'list'>\n",
      "<class 'list'>\n"
     ]
    }
   ],
   "source": [
    "# As listas são como uma grande sacola onde tudo é permitido. Podem conter: inteiros, floats, strings, outras listas e outros tipos.\n",
    "# Para denotar listas os colchetes são utilizados:\n",
    "\n",
    "idade = [34,25,33,12,56]\n",
    "nome = [\"João\", \"Maria\", \"Ricardo\", \"José\", \"Antônio\", \"Carla\"]\n",
    "altura = [1.67, 1.56, 1.78, 1.70, 1.89, 1.64]\n",
    "\n",
    "print(type(idade))\n",
    "print(type(nome))\n",
    "print(type(altura))\n"
   ]
  },
  {
   "cell_type": "code",
   "execution_count": 30,
   "id": "b0b94d51",
   "metadata": {},
   "outputs": [
    {
     "name": "stdout",
     "output_type": "stream",
     "text": [
      "34\n",
      "1.7\n",
      "Nova idade: 30\n",
      "Nova altura: 1.5\n"
     ]
    }
   ],
   "source": [
    "# Para acessar os valores de uma lista temos que:\n",
    "print(idade[0]) # -> Lembrando que o 0 equivale ao primeiro lugar na lista e não o 1.\n",
    "print(altura[3])\n",
    "\n",
    "# Para alterar os valores, temos que:\n",
    "idade[0] = 30\n",
    "altura[3] = 1.50\n",
    "print('Nova idade:', idade[0])\n",
    "print('Nova altura:', altura[3])\n"
   ]
  },
  {
   "cell_type": "markdown",
   "id": "d3c03745-31a5-47e9-b37e-a433aeef8a4c",
   "metadata": {},
   "source": [
    "### Tuplas (tuple)"
   ]
  },
  {
   "cell_type": "code",
   "execution_count": 31,
   "id": "1772974b-fda9-49c3-8e99-0ad16c6b225d",
   "metadata": {},
   "outputs": [
    {
     "name": "stdout",
     "output_type": "stream",
     "text": [
      "<class 'tuple'>\n",
      "<class 'tuple'>\n",
      "<class 'tuple'>\n"
     ]
    }
   ],
   "source": [
    "# Assim como as listas, as tuplas são como uma grande sacola onde tudo é permitido. No entanto, elas nao podem ser mudadas deposi de declaradas.\n",
    "# Para denotar tuplas os parênteses são utilizados:\n",
    "\n",
    "idade = (34,25,33,12,56, 17)\n",
    "nome = (\"João\", \"Maria\", \"Ricardo\", \"José\", \"Antônio\", \"Carla\")\n",
    "altura = (1.67, 1.56, 1.78, 1.70, 1.89, 1.64)\n",
    "\n",
    "print(type(idade))\n",
    "print(type(nome))\n",
    "print(type(altura))"
   ]
  },
  {
   "cell_type": "markdown",
   "id": "d3c03745-31a5-47e9-b37e-a433aeef8a4c",
   "metadata": {},
   "source": [
    "### Dicionários (dict)"
   ]
  },
  {
   "cell_type": "code",
   "execution_count": 32,
   "id": "ac18ff2d",
   "metadata": {},
   "outputs": [
    {
     "name": "stdout",
     "output_type": "stream",
     "text": [
      "<class 'dict'>\n",
      "<class 'dict'>\n"
     ]
    }
   ],
   "source": [
    "# Dicionários funcionam na lógica (chave -> valor), tal como o próprio nome tenta explicar (palavra -> significado)\n",
    "# Para denotar dcionários as chaves são utilizados:\n",
    "\n",
    "idade = {'João': 34,'Maria': 25,'Ricardo': 33,'José': 12,'Antônio': 56,'Carla': 17}\n",
    "altura = {'João': 1.67, 'Maria': 1.56, 'Ricardo': 1.78, 'José': 1.70, 'Antônio': 56, 'Carla': 1.64}\n",
    "\n",
    "print(type(idade))\n",
    "print(type(altura))"
   ]
  },
  {
   "cell_type": "code",
   "execution_count": 33,
   "id": "b0b94d51",
   "metadata": {},
   "outputs": [
    {
     "name": "stdout",
     "output_type": "stream",
     "text": [
      "34\n",
      "1.78\n",
      "Nova idade: 30\n",
      "Nova altura: 1.5\n"
     ]
    }
   ],
   "source": [
    "# Para acessar os valores de um dicionario temos que:\n",
    "print(idade['João'])\n",
    "print(altura['Ricardo'])\n",
    "\n",
    "# Para alterar os valores, temos que:\n",
    "idade['João'] = 30\n",
    "altura['Ricardo'] = 1.50\n",
    "print('Nova idade:', idade['João'])\n",
    "print('Nova altura:', altura['Ricardo'])\n"
   ]
  }
 ],
 "metadata": {
  "kernelspec": {
   "display_name": "Python 3 (ipykernel)",
   "language": "python",
   "name": "python3"
  },
  "language_info": {
   "codemirror_mode": {
    "name": "ipython",
    "version": 3
   },
   "file_extension": ".py",
   "mimetype": "text/x-python",
   "name": "python",
   "nbconvert_exporter": "python",
   "pygments_lexer": "ipython3",
   "version": "3.9.7"
  }
 },
 "nbformat": 4,
 "nbformat_minor": 5
}
